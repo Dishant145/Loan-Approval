{
 "cells": [
  {
   "cell_type": "markdown",
   "metadata": {},
   "source": [
    "Importing libraries"
   ]
  },
  {
   "cell_type": "code",
   "execution_count": 99,
   "metadata": {},
   "outputs": [],
   "source": [
    "import pandas as pd \n",
    "import numpy as np \n",
    "import matplotlib.pyplot as plt \n",
    "import seaborn as sns \n",
    "from sklearn.compose import ColumnTransformer\n",
    "from sklearn.preprocessing import StandardScaler, OneHotEncoder, OrdinalEncoder, LabelEncoder\n",
    "from sklearn.pipeline import Pipeline\n",
    "from sklearn.model_selection import train_test_split\n",
    "from sklearn.ensemble import RandomForestClassifier\n",
    "from sklearn.linear_model import LogisticRegression\n",
    "from sklearn.neighbors import KNeighborsClassifier\n",
    "from sklearn.tree import DecisionTreeClassifier\n",
    "from sklearn.svm import SVC\n",
    "from xgboost import XGBClassifier\n",
    "from lightgbm import LGBMClassifier\n",
    "\n"
   ]
  },
  {
   "cell_type": "markdown",
   "metadata": {},
   "source": [
    "Reading the Dataset"
   ]
  },
  {
   "cell_type": "code",
   "execution_count": 100,
   "metadata": {},
   "outputs": [],
   "source": [
    "df = pd.read_csv('loan_approval_data.csv')"
   ]
  },
  {
   "cell_type": "code",
   "execution_count": 101,
   "metadata": {},
   "outputs": [
    {
     "data": {
      "text/html": [
       "<div>\n",
       "<style scoped>\n",
       "    .dataframe tbody tr th:only-of-type {\n",
       "        vertical-align: middle;\n",
       "    }\n",
       "\n",
       "    .dataframe tbody tr th {\n",
       "        vertical-align: top;\n",
       "    }\n",
       "\n",
       "    .dataframe thead th {\n",
       "        text-align: right;\n",
       "    }\n",
       "</style>\n",
       "<table border=\"1\" class=\"dataframe\">\n",
       "  <thead>\n",
       "    <tr style=\"text-align: right;\">\n",
       "      <th></th>\n",
       "      <th>loan_id</th>\n",
       "      <th>no_of_dependents</th>\n",
       "      <th>education</th>\n",
       "      <th>self_employed</th>\n",
       "      <th>employment_type</th>\n",
       "      <th>income_annum</th>\n",
       "      <th>loan_amount</th>\n",
       "      <th>loan_term</th>\n",
       "      <th>cibil_score</th>\n",
       "      <th>residential_assets_value</th>\n",
       "      <th>commercial_assets_value</th>\n",
       "      <th>luxury_assets_value</th>\n",
       "      <th>bank_asset_value</th>\n",
       "      <th>loan_status</th>\n",
       "    </tr>\n",
       "  </thead>\n",
       "  <tbody>\n",
       "    <tr>\n",
       "      <th>0</th>\n",
       "      <td>1</td>\n",
       "      <td>2</td>\n",
       "      <td>12th</td>\n",
       "      <td>No</td>\n",
       "      <td>Salaried</td>\n",
       "      <td>9600000</td>\n",
       "      <td>29900000</td>\n",
       "      <td>12</td>\n",
       "      <td>778</td>\n",
       "      <td>2400000</td>\n",
       "      <td>17600000</td>\n",
       "      <td>22700000</td>\n",
       "      <td>8000000</td>\n",
       "      <td>Approved</td>\n",
       "    </tr>\n",
       "    <tr>\n",
       "      <th>1</th>\n",
       "      <td>2</td>\n",
       "      <td>0</td>\n",
       "      <td>12th</td>\n",
       "      <td>No</td>\n",
       "      <td>Salaried</td>\n",
       "      <td>4100000</td>\n",
       "      <td>12200000</td>\n",
       "      <td>8</td>\n",
       "      <td>417</td>\n",
       "      <td>2700000</td>\n",
       "      <td>2200000</td>\n",
       "      <td>8800000</td>\n",
       "      <td>3300000</td>\n",
       "      <td>Rejected</td>\n",
       "    </tr>\n",
       "    <tr>\n",
       "      <th>2</th>\n",
       "      <td>3</td>\n",
       "      <td>3</td>\n",
       "      <td>8th</td>\n",
       "      <td>No</td>\n",
       "      <td>Salaried</td>\n",
       "      <td>9100000</td>\n",
       "      <td>29700000</td>\n",
       "      <td>20</td>\n",
       "      <td>506</td>\n",
       "      <td>7100000</td>\n",
       "      <td>4500000</td>\n",
       "      <td>33300000</td>\n",
       "      <td>12800000</td>\n",
       "      <td>Rejected</td>\n",
       "    </tr>\n",
       "    <tr>\n",
       "      <th>3</th>\n",
       "      <td>4</td>\n",
       "      <td>3</td>\n",
       "      <td>8th</td>\n",
       "      <td>No</td>\n",
       "      <td>Salaried</td>\n",
       "      <td>8200000</td>\n",
       "      <td>30700000</td>\n",
       "      <td>8</td>\n",
       "      <td>467</td>\n",
       "      <td>18200000</td>\n",
       "      <td>3300000</td>\n",
       "      <td>23300000</td>\n",
       "      <td>7900000</td>\n",
       "      <td>Rejected</td>\n",
       "    </tr>\n",
       "    <tr>\n",
       "      <th>4</th>\n",
       "      <td>5</td>\n",
       "      <td>5</td>\n",
       "      <td>Graduate</td>\n",
       "      <td>No</td>\n",
       "      <td>Salaried</td>\n",
       "      <td>9800000</td>\n",
       "      <td>24200000</td>\n",
       "      <td>20</td>\n",
       "      <td>382</td>\n",
       "      <td>12400000</td>\n",
       "      <td>8200000</td>\n",
       "      <td>29400000</td>\n",
       "      <td>5000000</td>\n",
       "      <td>Rejected</td>\n",
       "    </tr>\n",
       "  </tbody>\n",
       "</table>\n",
       "</div>"
      ],
      "text/plain": [
       "   loan_id  no_of_dependents education self_employed employment_type  \\\n",
       "0        1                 2      12th            No        Salaried   \n",
       "1        2                 0      12th            No        Salaried   \n",
       "2        3                 3       8th            No        Salaried   \n",
       "3        4                 3       8th            No        Salaried   \n",
       "4        5                 5  Graduate            No        Salaried   \n",
       "\n",
       "   income_annum  loan_amount  loan_term  cibil_score  \\\n",
       "0       9600000     29900000         12          778   \n",
       "1       4100000     12200000          8          417   \n",
       "2       9100000     29700000         20          506   \n",
       "3       8200000     30700000          8          467   \n",
       "4       9800000     24200000         20          382   \n",
       "\n",
       "   residential_assets_value  commercial_assets_value  luxury_assets_value  \\\n",
       "0                   2400000                 17600000             22700000   \n",
       "1                   2700000                  2200000              8800000   \n",
       "2                   7100000                  4500000             33300000   \n",
       "3                  18200000                  3300000             23300000   \n",
       "4                  12400000                  8200000             29400000   \n",
       "\n",
       "   bank_asset_value loan_status  \n",
       "0           8000000    Approved  \n",
       "1           3300000    Rejected  \n",
       "2          12800000    Rejected  \n",
       "3           7900000    Rejected  \n",
       "4           5000000    Rejected  "
      ]
     },
     "execution_count": 101,
     "metadata": {},
     "output_type": "execute_result"
    }
   ],
   "source": [
    "df.head()"
   ]
  },
  {
   "cell_type": "code",
   "execution_count": 102,
   "metadata": {},
   "outputs": [
    {
     "name": "stdout",
     "output_type": "stream",
     "text": [
      "<class 'pandas.core.frame.DataFrame'>\n",
      "RangeIndex: 4269 entries, 0 to 4268\n",
      "Data columns (total 14 columns):\n",
      " #   Column                    Non-Null Count  Dtype \n",
      "---  ------                    --------------  ----- \n",
      " 0   loan_id                   4269 non-null   int64 \n",
      " 1   no_of_dependents          4269 non-null   int64 \n",
      " 2   education                 4269 non-null   object\n",
      " 3   self_employed             4269 non-null   object\n",
      " 4   employment_type           4269 non-null   object\n",
      " 5   income_annum              4269 non-null   int64 \n",
      " 6   loan_amount               4269 non-null   int64 \n",
      " 7   loan_term                 4269 non-null   int64 \n",
      " 8   cibil_score               4269 non-null   int64 \n",
      " 9   residential_assets_value  4269 non-null   int64 \n",
      " 10  commercial_assets_value   4269 non-null   int64 \n",
      " 11  luxury_assets_value       4269 non-null   int64 \n",
      " 12  bank_asset_value          4269 non-null   int64 \n",
      " 13  loan_status               4269 non-null   object\n",
      "dtypes: int64(10), object(4)\n",
      "memory usage: 467.1+ KB\n"
     ]
    }
   ],
   "source": [
    "df.info()"
   ]
  },
  {
   "cell_type": "code",
   "execution_count": 103,
   "metadata": {},
   "outputs": [
    {
     "data": {
      "text/html": [
       "<div>\n",
       "<style scoped>\n",
       "    .dataframe tbody tr th:only-of-type {\n",
       "        vertical-align: middle;\n",
       "    }\n",
       "\n",
       "    .dataframe tbody tr th {\n",
       "        vertical-align: top;\n",
       "    }\n",
       "\n",
       "    .dataframe thead th {\n",
       "        text-align: right;\n",
       "    }\n",
       "</style>\n",
       "<table border=\"1\" class=\"dataframe\">\n",
       "  <thead>\n",
       "    <tr style=\"text-align: right;\">\n",
       "      <th></th>\n",
       "      <th>loan_id</th>\n",
       "      <th>no_of_dependents</th>\n",
       "      <th>income_annum</th>\n",
       "      <th>loan_amount</th>\n",
       "      <th>loan_term</th>\n",
       "      <th>cibil_score</th>\n",
       "      <th>residential_assets_value</th>\n",
       "      <th>commercial_assets_value</th>\n",
       "      <th>luxury_assets_value</th>\n",
       "      <th>bank_asset_value</th>\n",
       "    </tr>\n",
       "  </thead>\n",
       "  <tbody>\n",
       "    <tr>\n",
       "      <th>count</th>\n",
       "      <td>4269.000000</td>\n",
       "      <td>4269.000000</td>\n",
       "      <td>4.269000e+03</td>\n",
       "      <td>4.269000e+03</td>\n",
       "      <td>4269.000000</td>\n",
       "      <td>4269.000000</td>\n",
       "      <td>4.269000e+03</td>\n",
       "      <td>4.269000e+03</td>\n",
       "      <td>4.269000e+03</td>\n",
       "      <td>4.269000e+03</td>\n",
       "    </tr>\n",
       "    <tr>\n",
       "      <th>mean</th>\n",
       "      <td>2135.000000</td>\n",
       "      <td>2.498712</td>\n",
       "      <td>5.059124e+06</td>\n",
       "      <td>1.513345e+07</td>\n",
       "      <td>10.900445</td>\n",
       "      <td>599.936051</td>\n",
       "      <td>7.472617e+06</td>\n",
       "      <td>4.973155e+06</td>\n",
       "      <td>1.512631e+07</td>\n",
       "      <td>4.976692e+06</td>\n",
       "    </tr>\n",
       "    <tr>\n",
       "      <th>std</th>\n",
       "      <td>1232.498479</td>\n",
       "      <td>1.695910</td>\n",
       "      <td>2.806840e+06</td>\n",
       "      <td>9.043363e+06</td>\n",
       "      <td>5.709187</td>\n",
       "      <td>172.430401</td>\n",
       "      <td>6.503637e+06</td>\n",
       "      <td>4.388966e+06</td>\n",
       "      <td>9.103754e+06</td>\n",
       "      <td>3.250185e+06</td>\n",
       "    </tr>\n",
       "    <tr>\n",
       "      <th>min</th>\n",
       "      <td>1.000000</td>\n",
       "      <td>0.000000</td>\n",
       "      <td>2.000000e+05</td>\n",
       "      <td>3.000000e+05</td>\n",
       "      <td>2.000000</td>\n",
       "      <td>300.000000</td>\n",
       "      <td>-1.000000e+05</td>\n",
       "      <td>0.000000e+00</td>\n",
       "      <td>3.000000e+05</td>\n",
       "      <td>0.000000e+00</td>\n",
       "    </tr>\n",
       "    <tr>\n",
       "      <th>25%</th>\n",
       "      <td>1068.000000</td>\n",
       "      <td>1.000000</td>\n",
       "      <td>2.700000e+06</td>\n",
       "      <td>7.700000e+06</td>\n",
       "      <td>6.000000</td>\n",
       "      <td>453.000000</td>\n",
       "      <td>2.200000e+06</td>\n",
       "      <td>1.300000e+06</td>\n",
       "      <td>7.500000e+06</td>\n",
       "      <td>2.300000e+06</td>\n",
       "    </tr>\n",
       "    <tr>\n",
       "      <th>50%</th>\n",
       "      <td>2135.000000</td>\n",
       "      <td>3.000000</td>\n",
       "      <td>5.100000e+06</td>\n",
       "      <td>1.450000e+07</td>\n",
       "      <td>10.000000</td>\n",
       "      <td>600.000000</td>\n",
       "      <td>5.600000e+06</td>\n",
       "      <td>3.700000e+06</td>\n",
       "      <td>1.460000e+07</td>\n",
       "      <td>4.600000e+06</td>\n",
       "    </tr>\n",
       "    <tr>\n",
       "      <th>75%</th>\n",
       "      <td>3202.000000</td>\n",
       "      <td>4.000000</td>\n",
       "      <td>7.500000e+06</td>\n",
       "      <td>2.150000e+07</td>\n",
       "      <td>16.000000</td>\n",
       "      <td>748.000000</td>\n",
       "      <td>1.130000e+07</td>\n",
       "      <td>7.600000e+06</td>\n",
       "      <td>2.170000e+07</td>\n",
       "      <td>7.100000e+06</td>\n",
       "    </tr>\n",
       "    <tr>\n",
       "      <th>max</th>\n",
       "      <td>4269.000000</td>\n",
       "      <td>5.000000</td>\n",
       "      <td>9.900000e+06</td>\n",
       "      <td>3.950000e+07</td>\n",
       "      <td>20.000000</td>\n",
       "      <td>900.000000</td>\n",
       "      <td>2.910000e+07</td>\n",
       "      <td>1.940000e+07</td>\n",
       "      <td>3.920000e+07</td>\n",
       "      <td>1.470000e+07</td>\n",
       "    </tr>\n",
       "  </tbody>\n",
       "</table>\n",
       "</div>"
      ],
      "text/plain": [
       "           loan_id  no_of_dependents  income_annum   loan_amount    loan_term  \\\n",
       "count  4269.000000       4269.000000  4.269000e+03  4.269000e+03  4269.000000   \n",
       "mean   2135.000000          2.498712  5.059124e+06  1.513345e+07    10.900445   \n",
       "std    1232.498479          1.695910  2.806840e+06  9.043363e+06     5.709187   \n",
       "min       1.000000          0.000000  2.000000e+05  3.000000e+05     2.000000   \n",
       "25%    1068.000000          1.000000  2.700000e+06  7.700000e+06     6.000000   \n",
       "50%    2135.000000          3.000000  5.100000e+06  1.450000e+07    10.000000   \n",
       "75%    3202.000000          4.000000  7.500000e+06  2.150000e+07    16.000000   \n",
       "max    4269.000000          5.000000  9.900000e+06  3.950000e+07    20.000000   \n",
       "\n",
       "       cibil_score  residential_assets_value  commercial_assets_value  \\\n",
       "count  4269.000000              4.269000e+03             4.269000e+03   \n",
       "mean    599.936051              7.472617e+06             4.973155e+06   \n",
       "std     172.430401              6.503637e+06             4.388966e+06   \n",
       "min     300.000000             -1.000000e+05             0.000000e+00   \n",
       "25%     453.000000              2.200000e+06             1.300000e+06   \n",
       "50%     600.000000              5.600000e+06             3.700000e+06   \n",
       "75%     748.000000              1.130000e+07             7.600000e+06   \n",
       "max     900.000000              2.910000e+07             1.940000e+07   \n",
       "\n",
       "       luxury_assets_value  bank_asset_value  \n",
       "count         4.269000e+03      4.269000e+03  \n",
       "mean          1.512631e+07      4.976692e+06  \n",
       "std           9.103754e+06      3.250185e+06  \n",
       "min           3.000000e+05      0.000000e+00  \n",
       "25%           7.500000e+06      2.300000e+06  \n",
       "50%           1.460000e+07      4.600000e+06  \n",
       "75%           2.170000e+07      7.100000e+06  \n",
       "max           3.920000e+07      1.470000e+07  "
      ]
     },
     "execution_count": 103,
     "metadata": {},
     "output_type": "execute_result"
    }
   ],
   "source": [
    "df.describe()"
   ]
  },
  {
   "cell_type": "markdown",
   "metadata": {},
   "source": [
    "Dropping Columns\n"
   ]
  },
  {
   "cell_type": "code",
   "execution_count": 104,
   "metadata": {},
   "outputs": [],
   "source": [
    "df = df.drop(['loan_id','self_employed'],axis=1)"
   ]
  },
  {
   "cell_type": "markdown",
   "metadata": {},
   "source": [
    "Splitting into independent variables and dependent variable."
   ]
  },
  {
   "cell_type": "code",
   "execution_count": 105,
   "metadata": {},
   "outputs": [],
   "source": [
    "X = df.drop('loan_status',axis=1)\n",
    "y = df['loan_status']\n"
   ]
  },
  {
   "cell_type": "markdown",
   "metadata": {},
   "source": [
    "Splitting into training and test sets"
   ]
  },
  {
   "cell_type": "code",
   "execution_count": 106,
   "metadata": {},
   "outputs": [],
   "source": [
    "X_train, X_test, y_train, y_test = train_test_split(X,y,test_size=0.2, random_state=42)"
   ]
  },
  {
   "cell_type": "markdown",
   "metadata": {},
   "source": [
    "Preprocessing columns"
   ]
  },
  {
   "cell_type": "code",
   "execution_count": 107,
   "metadata": {},
   "outputs": [],
   "source": [
    "numerical_cols = X.select_dtypes(include=np.number).columns\n",
    "ordinal_cols = ['education'] \n",
    "nominal_cols = ['employment_type']\n",
    "\n",
    "education_categories = [['12th', '8th', 'Graduate', '10th']]"
   ]
  },
  {
   "cell_type": "markdown",
   "metadata": {},
   "source": [
    "Creating Pipelines for preprocssing of each column types"
   ]
  },
  {
   "cell_type": "code",
   "execution_count": 108,
   "metadata": {},
   "outputs": [],
   "source": [
    "numerical_pipeline = Pipeline(steps=[\n",
    "    ('scaler', StandardScaler())\n",
    "])\n",
    "\n",
    "nominal_pipeline = Pipeline(steps=[\n",
    "    ('onehot', OneHotEncoder(drop='first', sparse_output=False)),\n",
    "])\n",
    "\n",
    "ordinal_pipeline = Pipeline(steps=[\n",
    "    ('ordinal', OrdinalEncoder(categories=education_categories)),\n",
    "])\n"
   ]
  },
  {
   "cell_type": "markdown",
   "metadata": {},
   "source": [
    "Column Transformer to apply transformations"
   ]
  },
  {
   "cell_type": "code",
   "execution_count": 109,
   "metadata": {},
   "outputs": [],
   "source": [
    "preprocessor = ColumnTransformer(transformers=[\n",
    "    ('num', numerical_pipeline, numerical_cols),\n",
    "    ('cat', nominal_pipeline,nominal_cols),\n",
    "    ('ord', ordinal_pipeline, ordinal_cols)\n",
    "])"
   ]
  },
  {
   "cell_type": "markdown",
   "metadata": {},
   "source": [
    "Fitting and transforming training sets"
   ]
  },
  {
   "cell_type": "code",
   "execution_count": 110,
   "metadata": {},
   "outputs": [
    {
     "name": "stdout",
     "output_type": "stream",
     "text": [
      "(3415, 12)\n",
      "(854, 12)\n"
     ]
    }
   ],
   "source": [
    "preprocessed_X_train = preprocessor.fit_transform(X_train)\n",
    "preprocessed_X_test = preprocessor.transform(X_test)\n",
    "\n",
    "\n",
    "print(preprocessed_X_train.shape)\n",
    "print(preprocessed_X_test.shape)"
   ]
  },
  {
   "cell_type": "markdown",
   "metadata": {},
   "source": [
    "Label Encoder to encode target variable"
   ]
  },
  {
   "cell_type": "code",
   "execution_count": 111,
   "metadata": {},
   "outputs": [],
   "source": [
    "from sklearn.preprocessing import LabelEncoder\n",
    "\n",
    "label_encoder = LabelEncoder()\n",
    "y_train_encoded = label_encoder.fit_transform(y_train)\n",
    "y_test_encoded = label_encoder.transform(y_test)"
   ]
  },
  {
   "cell_type": "code",
   "execution_count": 112,
   "metadata": {},
   "outputs": [
    {
     "name": "stdout",
     "output_type": "stream",
     "text": [
      "(3415,)\n",
      "(854,)\n"
     ]
    }
   ],
   "source": [
    "print(y_train_encoded.shape)\n",
    "print(y_test_encoded.shape)"
   ]
  },
  {
   "cell_type": "markdown",
   "metadata": {},
   "source": [
    "Mutual Information Score between each feature and the 'Loan_Status' variable"
   ]
  },
  {
   "cell_type": "code",
   "execution_count": 113,
   "metadata": {},
   "outputs": [
    {
     "name": "stdout",
     "output_type": "stream",
     "text": [
      "                            Feature  Mutual Information\n",
      "4                  num__cibil_score            0.501844\n",
      "3                    num__loan_term            0.012186\n",
      "10    cat__employment_type_Salaried            0.012166\n",
      "2                  num__loan_amount            0.009116\n",
      "5     num__residential_assets_value            0.004877\n",
      "1                 num__income_annum            0.003874\n",
      "8             num__bank_asset_value            0.002274\n",
      "7          num__luxury_assets_value            0.001114\n",
      "0             num__no_of_dependents            0.000000\n",
      "6      num__commercial_assets_value            0.000000\n",
      "9   cat__employment_type_Freelancer            0.000000\n",
      "11                   ord__education            0.000000\n"
     ]
    }
   ],
   "source": [
    "\n",
    "from sklearn.feature_selection import mutual_info_classif\n",
    "mi_scores = mutual_info_classif(preprocessed_X_train, y_train_encoded,random_state=42)\n",
    "\n",
    "\n",
    "feature_names =  preprocessor.get_feature_names_out().tolist()\n",
    "\n",
    "mi_df = pd.DataFrame({\n",
    "    'Feature': feature_names,\n",
    "    'Mutual Information': mi_scores\n",
    "})\n",
    "\n",
    "\n",
    "mi_df = mi_df.sort_values(by='Mutual Information', ascending=False)\n",
    "print(mi_df)"
   ]
  },
  {
   "cell_type": "markdown",
   "metadata": {},
   "source": [
    "Initializing models"
   ]
  },
  {
   "cell_type": "code",
   "execution_count": 114,
   "metadata": {},
   "outputs": [],
   "source": [
    "models = {\n",
    "            \"Random Forest\": RandomForestClassifier(random_state=42),\n",
    "            \"Logistic Regression\": LogisticRegression(random_state=42),\n",
    "            \"KNN\": KNeighborsClassifier(),\n",
    "            \"Decision Tree\": DecisionTreeClassifier(random_state=42),\n",
    "            \"SVM\": SVC(random_state=42),\n",
    "            \"XGBoost\": XGBClassifier(random_state=42),\n",
    "        }"
   ]
  },
  {
   "cell_type": "code",
   "execution_count": 115,
   "metadata": {},
   "outputs": [
    {
     "name": "stdout",
     "output_type": "stream",
     "text": [
      "Model: Random Forest (1.0, 0.9754098360655737)\n",
      "Model: Logistic Regression (0.9200585651537335, 0.9039812646370023)\n",
      "Model: KNN (0.9370424597364568, 0.8899297423887588)\n",
      "Model: Decision Tree (1.0, 0.968384074941452)\n",
      "Model: SVM (0.9546120058565154, 0.9285714285714286)\n",
      "Model: XGBoost (1.0, 0.977751756440281)\n"
     ]
    }
   ],
   "source": [
    "from sklearn.metrics import accuracy_score\n",
    "for i in range(len(list(models))):\n",
    "    model = list(models.values())[i]\n",
    "    \n",
    "    model.fit(preprocessed_X_train, y_train_encoded)\n",
    "\n",
    "    y_train_pred = model.predict(preprocessed_X_train)\n",
    "    y_test_pred = model.predict(preprocessed_X_test)\n",
    "\n",
    "    train_accuracy = accuracy_score(y_train_encoded, y_train_pred)\n",
    "    test_accuracy = accuracy_score(y_test_encoded, y_test_pred)\n",
    "\n",
    "    print(f\"Model: {list(models.keys())[i]}\",(train_accuracy,test_accuracy))"
   ]
  },
  {
   "cell_type": "markdown",
   "metadata": {},
   "source": [
    "Initializing HyperParameters"
   ]
  },
  {
   "cell_type": "code",
   "execution_count": 116,
   "metadata": {},
   "outputs": [],
   "source": [
    "from scipy.stats import randint, uniform\n",
    "import numpy as np\n",
    "\n",
    "models_params = {\n",
    "    'LogisticRegression': {\n",
    "        'model': LogisticRegression(),\n",
    "        'params': {\n",
    "            'C': np.logspace(-3, 3, 7),\n",
    "            'penalty': ['l1', 'l2'],\n",
    "            'solver': ['liblinear', 'saga'],\n",
    "            'class_weight': [None, 'balanced']  \n",
    "        }\n",
    "    },\n",
    "    'DecisionTreeClassifier': {\n",
    "        'model': DecisionTreeClassifier(),\n",
    "        'params': {\n",
    "            'max_depth': [3,5,7,10,15],\n",
    "            'min_samples_split': [3,5,10,12],\n",
    "            'min_samples_leaf': [8,10,12,18,20,16],\n",
    "            'criterion': ['gini', 'entropy'],\n",
    "            'class_weight': [None, 'balanced']  \n",
    "        }\n",
    "    },\n",
    "    'RandomForestClassifier': {\n",
    "        'model': RandomForestClassifier(),\n",
    "        'params': {\n",
    "            'n_estimators': [25, 50, 100, 150], \n",
    "            'max_features': ['sqrt', 'log2', None], \n",
    "            'max_depth': [3, 6, 9,12], \n",
    "            'min_samples_split': [3,5,10,12],\n",
    "            'class_weight': [None, 'balanced']  \n",
    "        }\n",
    "    },\n",
    "    'KNeighborsClassifier': {\n",
    "        'model': KNeighborsClassifier(),\n",
    "        'params': {\n",
    "            'n_neighbors': [3,5,7,9,11,13,15],\n",
    "            'weights': ['uniform', 'distance'],\n",
    "            'metric' : ['minkowski','euclidean','manhattan']\n",
    "        }\n",
    "    },\n",
    "    'SVC': {\n",
    "        'model': SVC(),\n",
    "        'params': {\n",
    "            'C': np.logspace(-2, 2, 5),\n",
    "            'kernel': ['linear', 'rbf', 'poly', 'sigmoid'],\n",
    "            'gamma': ['scale', 'auto'],\n",
    "            'degree': randint(2, 5)  ,\n",
    "            'class_weight': [None, 'balanced']  \n",
    "        }\n",
    "    },\n",
    "    'XGBClassifier': {\n",
    "        'model': XGBClassifier(),\n",
    "        'params': {\n",
    "            'n_estimators': [25, 50, 100, 150],\n",
    "            'learning_rate': [0.1, 0.01, 0.001,10],\n",
    "            'max_depth': [3,5,7,9],\n",
    "            'subsample': [0.5, 0.7, 1],\n",
    "            'colsample_bytree': [0.4,0.6,0.8]\n",
    "        }\n",
    "    }\n",
    "}"
   ]
  },
  {
   "cell_type": "markdown",
   "metadata": {},
   "source": [
    "RandomSearchCV Hyperparameter Tuning"
   ]
  },
  {
   "cell_type": "code",
   "execution_count": 117,
   "metadata": {},
   "outputs": [
    {
     "name": "stdout",
     "output_type": "stream",
     "text": [
      "RandomizedSearchCV for LogisticRegression:\n",
      "Fitting 5 folds for each of 10 candidates, totalling 50 fits\n",
      "Best parameters for LogisticRegression: {'solver': 'saga', 'penalty': 'l1', 'class_weight': 'balanced', 'C': np.float64(0.01)}\n",
      "Best cross-validation score for LogisticRegression: 0.9420204978038067\n",
      "\n",
      "RandomizedSearchCV for DecisionTreeClassifier:\n",
      "Fitting 5 folds for each of 10 candidates, totalling 50 fits\n",
      "Best parameters for DecisionTreeClassifier: {'min_samples_split': 10, 'min_samples_leaf': 12, 'max_depth': 10, 'criterion': 'entropy', 'class_weight': 'balanced'}\n",
      "Best cross-validation score for DecisionTreeClassifier: 0.9768667642752563\n",
      "\n",
      "RandomizedSearchCV for RandomForestClassifier:\n",
      "Fitting 5 folds for each of 10 candidates, totalling 50 fits\n",
      "Best parameters for RandomForestClassifier: {'n_estimators': 150, 'min_samples_split': 5, 'max_features': None, 'max_depth': 12, 'class_weight': 'balanced'}\n",
      "Best cross-validation score for RandomForestClassifier: 0.9821376281112737\n",
      "\n",
      "RandomizedSearchCV for KNeighborsClassifier:\n",
      "Fitting 5 folds for each of 10 candidates, totalling 50 fits\n",
      "Best parameters for KNeighborsClassifier: {'weights': 'distance', 'n_neighbors': 15, 'metric': 'minkowski'}\n",
      "Best cross-validation score for KNeighborsClassifier: 0.9165446559297218\n",
      "\n",
      "RandomizedSearchCV for SVC:\n",
      "Fitting 5 folds for each of 10 candidates, totalling 50 fits\n",
      "Best parameters for SVC: {'C': np.float64(10.0), 'class_weight': None, 'degree': 2, 'gamma': 'auto', 'kernel': 'rbf'}\n",
      "Best cross-validation score for SVC: 0.9469985358711567\n",
      "\n",
      "RandomizedSearchCV for XGBClassifier:\n",
      "Fitting 5 folds for each of 10 candidates, totalling 50 fits\n",
      "Best parameters for XGBClassifier: {'subsample': 0.5, 'n_estimators': 100, 'max_depth': 9, 'learning_rate': 0.1, 'colsample_bytree': 0.6}\n",
      "Best cross-validation score for XGBClassifier: 0.9795021961932651\n",
      "\n"
     ]
    }
   ],
   "source": [
    "from sklearn.model_selection import RandomizedSearchCV\n",
    "cv_folds = 5\n",
    "n = 10\n",
    "best_results = {}\n",
    "\n",
    "for model_name, model_info in models_params.items():\n",
    "    print(f\"RandomizedSearchCV for {model_name}:\")\n",
    "\n",
    "    random_search = RandomizedSearchCV(\n",
    "        estimator=model_info['model'], \n",
    "        param_distributions=model_info['params'], \n",
    "        n_iter=n,  \n",
    "        scoring='accuracy',  \n",
    "        n_jobs=-1,             \n",
    "        cv=cv_folds,          \n",
    "        verbose=1,             \n",
    "        random_state=42      \n",
    "    )\n",
    "\n",
    "    random_search.fit(preprocessed_X_train, y_train_encoded)  \n",
    "    \n",
    "    best_results[model_name] = {\n",
    "        'best_score': random_search.best_score_,\n",
    "        'best_params': random_search.best_params_\n",
    "    }\n",
    "\n",
    "    print(f\"Best parameters for {model_name}: {random_search.best_params_}\")\n",
    "    print(f\"Best cross-validation score for {model_name}: {random_search.best_score_}\")\n",
    "    \n",
    "    print()\n",
    "\n"
   ]
  },
  {
   "cell_type": "code",
   "execution_count": 118,
   "metadata": {},
   "outputs": [
    {
     "name": "stdout",
     "output_type": "stream",
     "text": [
      "Fitting 5 folds for each of 10 candidates, totalling 50 fits\n",
      "LogisticRegression - Training Accuracy: 0.9403, Test Accuracy: 0.9368\n",
      "LogisticRegression - Cross-validation Best Score: 0.9420\n",
      "LogisticRegression - Test Classification Report:\n",
      "               precision    recall  f1-score   support\n",
      "\n",
      "           0       0.99      0.91      0.95       536\n",
      "           1       0.86      0.98      0.92       318\n",
      "\n",
      "    accuracy                           0.94       854\n",
      "   macro avg       0.93      0.95      0.93       854\n",
      "weighted avg       0.94      0.94      0.94       854\n",
      "\n",
      "============================================================\n",
      "Fitting 5 folds for each of 10 candidates, totalling 50 fits\n",
      "DecisionTreeClassifier - Training Accuracy: 0.9818, Test Accuracy: 0.9754\n",
      "DecisionTreeClassifier - Cross-validation Best Score: 0.9769\n",
      "DecisionTreeClassifier - Test Classification Report:\n",
      "               precision    recall  f1-score   support\n",
      "\n",
      "           0       0.99      0.97      0.98       536\n",
      "           1       0.95      0.98      0.97       318\n",
      "\n",
      "    accuracy                           0.98       854\n",
      "   macro avg       0.97      0.98      0.97       854\n",
      "weighted avg       0.98      0.98      0.98       854\n",
      "\n",
      "============================================================\n",
      "Fitting 5 folds for each of 10 candidates, totalling 50 fits\n",
      "RandomForestClassifier - Training Accuracy: 0.9982, Test Accuracy: 0.9789\n",
      "RandomForestClassifier - Cross-validation Best Score: 0.9824\n",
      "RandomForestClassifier - Test Classification Report:\n",
      "               precision    recall  f1-score   support\n",
      "\n",
      "           0       0.98      0.99      0.98       536\n",
      "           1       0.98      0.97      0.97       318\n",
      "\n",
      "    accuracy                           0.98       854\n",
      "   macro avg       0.98      0.98      0.98       854\n",
      "weighted avg       0.98      0.98      0.98       854\n",
      "\n",
      "============================================================\n",
      "Fitting 5 folds for each of 10 candidates, totalling 50 fits\n",
      "KNeighborsClassifier - Training Accuracy: 1.0000, Test Accuracy: 0.9122\n",
      "KNeighborsClassifier - Cross-validation Best Score: 0.9165\n",
      "KNeighborsClassifier - Test Classification Report:\n",
      "               precision    recall  f1-score   support\n",
      "\n",
      "           0       0.94      0.92      0.93       536\n",
      "           1       0.86      0.91      0.88       318\n",
      "\n",
      "    accuracy                           0.91       854\n",
      "   macro avg       0.90      0.91      0.91       854\n",
      "weighted avg       0.91      0.91      0.91       854\n",
      "\n",
      "============================================================\n",
      "Fitting 5 folds for each of 10 candidates, totalling 50 fits\n",
      "SVC - Training Accuracy: 0.9769, Test Accuracy: 0.9333\n",
      "SVC - Cross-validation Best Score: 0.9470\n",
      "SVC - Test Classification Report:\n",
      "               precision    recall  f1-score   support\n",
      "\n",
      "           0       0.95      0.95      0.95       536\n",
      "           1       0.91      0.91      0.91       318\n",
      "\n",
      "    accuracy                           0.93       854\n",
      "   macro avg       0.93      0.93      0.93       854\n",
      "weighted avg       0.93      0.93      0.93       854\n",
      "\n",
      "============================================================\n",
      "Fitting 5 folds for each of 10 candidates, totalling 50 fits\n",
      "XGBClassifier - Training Accuracy: 0.9974, Test Accuracy: 0.9742\n",
      "XGBClassifier - Cross-validation Best Score: 0.9795\n",
      "XGBClassifier - Test Classification Report:\n",
      "               precision    recall  f1-score   support\n",
      "\n",
      "           0       0.98      0.98      0.98       536\n",
      "           1       0.97      0.96      0.97       318\n",
      "\n",
      "    accuracy                           0.97       854\n",
      "   macro avg       0.97      0.97      0.97       854\n",
      "weighted avg       0.97      0.97      0.97       854\n",
      "\n",
      "============================================================\n"
     ]
    }
   ],
   "source": [
    "from sklearn.metrics import accuracy_score \n",
    "from sklearn.model_selection import train_test_split\n",
    "from sklearn.metrics import accuracy_score, classification_report\n",
    "\n",
    "\n",
    "for model_name, model_info in models_params.items():\n",
    "    \n",
    "    random_search = RandomizedSearchCV(\n",
    "        estimator=model_info['model'], \n",
    "        param_distributions=model_info['params'], \n",
    "        n_iter=10,  \n",
    "        scoring='accuracy',  \n",
    "        n_jobs=-1,  \n",
    "        cv=cv_folds,  \n",
    "        verbose=1,  \n",
    "        random_state=42  \n",
    "    )\n",
    "    \n",
    "    \n",
    "    random_search.fit(preprocessed_X_train, y_train_encoded)\n",
    "    \n",
    "    best_model = random_search.best_estimator_\n",
    "    \n",
    "\n",
    "    y_train_pred = best_model.predict(preprocessed_X_train)\n",
    "    \n",
    "\n",
    "    y_test_pred = best_model.predict(preprocessed_X_test)\n",
    "\n",
    "    train_accuracy = accuracy_score(y_train_encoded, y_train_pred)\n",
    "    test_accuracy = accuracy_score(y_test_encoded, y_test_pred)\n",
    "    \n",
    "\n",
    "    print(f\"{model_name} - Training Accuracy: {train_accuracy:.4f}, Test Accuracy: {test_accuracy:.4f}\")\n",
    "    print(f\"{model_name} - Cross-validation Best Score: {random_search.best_score_:.4f}\")\n",
    "    print(f\"{model_name} - Test Classification Report:\\n {classification_report(y_test_encoded, y_test_pred)}\")\n",
    "    print(\"=\"*60)\n",
    "\n",
    "\n",
    "\n"
   ]
  },
  {
   "cell_type": "code",
   "execution_count": 119,
   "metadata": {},
   "outputs": [
    {
     "name": "stdout",
     "output_type": "stream",
     "text": [
      "Feature: num__cibil_score, Importance: 0.8126845929725851\n",
      "Feature: num__loan_term, Importance: 0.06455472023516833\n",
      "Feature: num__loan_amount, Importance: 0.026798223144888608\n",
      "Feature: num__residential_assets_value, Importance: 0.017362833032959015\n",
      "Feature: num__luxury_assets_value, Importance: 0.01639051104684645\n",
      "Feature: num__income_annum, Importance: 0.016375823877747445\n",
      "Feature: num__bank_asset_value, Importance: 0.015050444713407702\n",
      "Feature: num__commercial_assets_value, Importance: 0.014815017831942957\n",
      "Feature: num__no_of_dependents, Importance: 0.0073900154536604345\n",
      "Feature: ord__education, Importance: 0.00551679318221108\n",
      "Feature: cat__employment_type_Salaried, Importance: 0.00171262990430104\n",
      "Feature: cat__employment_type_Freelancer, Importance: 0.001348394604281885\n"
     ]
    }
   ],
   "source": [
    "rfc = RandomForestClassifier(n_estimators=50, max_depth=12, random_state=42, min_samples_split=3)\n",
    "rfc.fit(preprocessed_X_train, y_train_encoded)\n",
    "feature_names = preprocessor.get_feature_names_out().tolist()\n",
    "feature_importances = rfc.feature_importances_\n",
    "\n",
    "feature_importance_dict = {name: importance for name, importance in zip(feature_names, feature_importances)}\n",
    "sorted_feature_importance = sorted(feature_importance_dict.items(), key=lambda x: x[1], reverse=True)\n",
    "\n",
    "\n",
    "for feature, importance in sorted_feature_importance:\n",
    "    print(f\"Feature: {feature}, Importance: {importance}\")"
   ]
  },
  {
   "cell_type": "code",
   "execution_count": 120,
   "metadata": {},
   "outputs": [
    {
     "name": "stdout",
     "output_type": "stream",
     "text": [
      "Ensemble Voting Classifier Test Accuracy: 0.9766\n",
      "Ensemble Voting Classifier Train Accuracy: 0.9974\n",
      "XGBClassifier - Test Classification Report:\n",
      "               precision    recall  f1-score   support\n",
      "\n",
      "           0       0.98      0.99      0.98       536\n",
      "           1       0.97      0.96      0.97       318\n",
      "\n",
      "    accuracy                           0.98       854\n",
      "   macro avg       0.98      0.97      0.97       854\n",
      "weighted avg       0.98      0.98      0.98       854\n",
      "\n"
     ]
    }
   ],
   "source": [
    "from sklearn.ensemble import VotingClassifier\n",
    "\n",
    "logreg = LogisticRegression(C=0.1, solver='liblinear', penalty='l2', random_state=42,class_weight='balanced')\n",
    "rfc = RandomForestClassifier(n_estimators=50, max_depth=12, random_state=42,min_samples_split= 3,class_weight='balanced')\n",
    "xgb = XGBClassifier(n_estimators=50, max_depth=5, learning_rate=0.1, subsample=0.7, colsample_bytree= 0.8,random_state=42)\n",
    "dtc = DecisionTreeClassifier(max_depth=15, min_samples_split=3, criterion='gini', min_samples_leaf=12,random_state=42,class_weight='balanced',)\n",
    "\n",
    "\n",
    "voting_clf = VotingClassifier(estimators=[\n",
    "\n",
    "    ('rfc', rfc),\n",
    "    ('xgb', xgb),\n",
    "    ('dtc', dtc),\n",
    "], voting='hard')\n",
    "\n",
    "\n",
    "voting_clf.fit(preprocessed_X_train, y_train_encoded)\n",
    "y_test_pred = voting_clf.predict(preprocessed_X_test)\n",
    "Y_train_pred = voting_clf.predict(preprocessed_X_train)\n",
    "\n",
    "print(f'Ensemble Voting Classifier Test Accuracy: {accuracy_score(y_test_encoded, y_test_pred):.4f}')\n",
    "print(f'Ensemble Voting Classifier Train Accuracy: {accuracy_score(y_train_encoded, y_train_pred):.4f}')\n",
    "print(f\"{model_name} - Test Classification Report:\\n {classification_report(y_test_encoded, y_test_pred)}\")"
   ]
  },
  {
   "cell_type": "code",
   "execution_count": 121,
   "metadata": {},
   "outputs": [
    {
     "name": "stdout",
     "output_type": "stream",
     "text": [
      "Ensemble Voting Classifier Test Accuracy: 0.9766\n",
      "Ensemble Voting Classifier Train Accuracy: 0.9974\n",
      "XGBClassifier - Test Classification Report:\n",
      "               precision    recall  f1-score   support\n",
      "\n",
      "           0       0.98      0.99      0.98       536\n",
      "           1       0.97      0.96      0.97       318\n",
      "\n",
      "    accuracy                           0.98       854\n",
      "   macro avg       0.98      0.97      0.97       854\n",
      "weighted avg       0.98      0.98      0.98       854\n",
      "\n"
     ]
    }
   ],
   "source": [
    "from sklearn.ensemble import StackingClassifier\n",
    "\n",
    "stacking_clf = StackingClassifier(\n",
    "    estimators=[\n",
    "\n",
    "        ('rfc', rfc),\n",
    "        ('xgb', xgb),\n",
    "    ],\n",
    "    final_estimator=LogisticRegression() \n",
    ")\n",
    "\n",
    "stacking_clf.fit(preprocessed_X_train, y_train_encoded)\n",
    "y_test_pred = stacking_clf.predict(preprocessed_X_test)\n",
    "Y_train_pred = stacking_clf.predict(preprocessed_X_train)\n",
    "print(f'Ensemble Voting Classifier Test Accuracy: {accuracy_score(y_test_encoded, y_test_pred):.4f}')\n",
    "\n",
    "print(f'Ensemble Voting Classifier Train Accuracy: {accuracy_score(y_train_encoded, y_train_pred):.4f}')\n",
    "\n",
    "print(f\"{model_name} - Test Classification Report:\\n {classification_report(y_test_encoded, y_test_pred)}\")"
   ]
  },
  {
   "cell_type": "code",
   "execution_count": 127,
   "metadata": {},
   "outputs": [
    {
     "data": {
      "text/plain": [
       "['rfc_model.pkl']"
      ]
     },
     "execution_count": 127,
     "metadata": {},
     "output_type": "execute_result"
    }
   ],
   "source": [
    "import joblib\n",
    "rfc = RandomForestClassifier(n_estimators=50, max_depth=12, random_state=42,min_samples_split= 3,class_weight='balanced')\n",
    "rfc.fit(preprocessed_X_train, y_train_encoded)\n",
    "joblib.dump(rfc, 'rfc_model.pkl')"
   ]
  },
  {
   "cell_type": "code",
   "execution_count": 128,
   "metadata": {},
   "outputs": [
    {
     "name": "stdout",
     "output_type": "stream",
     "text": [
      "Predicted Loan Status: Approved\n"
     ]
    }
   ],
   "source": [
    "\n",
    "def predict_new_data(new_data, preprocessor, model):\n",
    "\n",
    "    preprocessed_new_data = preprocessor.transform(new_data)\n",
    "\n",
    "    predictions = model.predict(preprocessed_new_data)\n",
    "    \n",
    "    return predictions\n",
    "\n",
    "\n",
    "new_data = {\n",
    "    'no_of_dependents': 2,\n",
    "    'education': 'Graduate',  \n",
    "    'self_employed': 'Yes',\n",
    "    'employment_type': 'Salaried',\n",
    "    'income_annum': 500000,\n",
    "    'loan_amount': 100000,\n",
    "    'loan_term': 15,\n",
    "    'cibil_score': 750,\n",
    "    'residential_assets_value': 500000,\n",
    "    'commercial_assets_value': 100000,\n",
    "    'luxury_assets_value': 200000,\n",
    "    'bank_asset_value': 300000\n",
    "}\n",
    "\n",
    "new_data_df = pd.DataFrame([new_data])\n",
    "\n",
    "rfc = joblib.load('rfc_model.pkl')\n",
    "predicted_loan_status = predict_new_data(df, preprocessor, rfc)  \n",
    "\n",
    "predicted_loan_status = predict_new_data(new_data_df, preprocessor, rfc)  \n",
    "\n",
    "\n",
    "loan_status_decoded = label_encoder.inverse_transform(predicted_loan_status)\n",
    "\n",
    "print(f\"Predicted Loan Status: {loan_status_decoded[0]}\")\n"
   ]
  },
  {
   "cell_type": "code",
   "execution_count": null,
   "metadata": {},
   "outputs": [],
   "source": []
  },
  {
   "cell_type": "code",
   "execution_count": null,
   "metadata": {},
   "outputs": [],
   "source": []
  },
  {
   "cell_type": "code",
   "execution_count": null,
   "metadata": {},
   "outputs": [],
   "source": []
  },
  {
   "cell_type": "code",
   "execution_count": null,
   "metadata": {},
   "outputs": [],
   "source": []
  }
 ],
 "metadata": {
  "kernelspec": {
   "display_name": "Python 3 (ipykernel)",
   "language": "python",
   "name": "python3"
  },
  "language_info": {
   "codemirror_mode": {
    "name": "ipython",
    "version": 3
   },
   "file_extension": ".py",
   "mimetype": "text/x-python",
   "name": "python",
   "nbconvert_exporter": "python",
   "pygments_lexer": "ipython3",
   "version": "3.10.9"
  }
 },
 "nbformat": 4,
 "nbformat_minor": 2
}
